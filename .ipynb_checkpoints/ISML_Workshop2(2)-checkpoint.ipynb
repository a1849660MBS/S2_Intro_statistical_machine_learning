{
 "cells": [
  {
   "cell_type": "markdown",
   "id": "98549f55",
   "metadata": {
    "id": "98549f55"
   },
   "source": [
    "\n",
    "## 0. Implementing SVM hard and soft margin using CVXPY\n",
    "\n",
    "\n",
    "For reference, specification of cvxpy atomic functions:\n",
    "- https://www.cvxpy.org/tutorial/functions/index.html\n",
    "\n",
    "For a quick recap of SVM:\n",
    "- https://www.kdnuggets.com/2020/03/machine-learning-algorithm-svm-explained.html\n",
    "- https://www.analyticsvidhya.com/blog/2021/10/support-vector-machinessvm-a-complete-guide-for-beginners/\n",
    "\n"
   ]
  },
  {
   "cell_type": "markdown",
   "id": "6eee085d",
   "metadata": {},
   "source": [
    "<!-- ## If you want to get a copy of the code, you can type the following link in Google Chrome to get the file\n",
    "# https://colab.research.google.com/drive/13hxhiniX3t9KXhLRa10lCSBwRB6TkFiZ?usp=sharing -->"
   ]
  },
  {
   "cell_type": "markdown",
   "id": "ba235c6f",
   "metadata": {
    "id": "ba235c6f"
   },
   "source": [
    "## 1. Hard Margin SVM\n",
    "\n",
    "\n",
    "If the training data is linearly separable then we can select two parallel hyperplanes that separate the two classes of data, so that the distance between them is as large as possible. The region bounded by these two hyperplanes is called the “margin”, and the maximum-margin hyperplane is the hyperplane that lies halfway between them."
   ]
  },
  {
   "cell_type": "code",
   "execution_count": 4,
   "id": "495f1f3a",
   "metadata": {
    "colab": {
     "base_uri": "https://localhost:8080/"
    },
    "id": "495f1f3a",
    "outputId": "668febe3-aaf1-4108-e1d7-4e5f40c5638a"
   },
   "outputs": [
    {
     "name": "stdout",
     "output_type": "stream",
     "text": [
      "Collecting cvxpy\n",
      "  Downloading cvxpy-1.5.3-cp39-cp39-macosx_10_9_x86_64.whl (1.1 MB)\n",
      "\u001b[K     |████████████████████████████████| 1.1 MB 2.8 MB/s eta 0:00:01\n",
      "\u001b[?25hCollecting ecos>=2\n",
      "  Downloading ecos-2.0.14-cp39-cp39-macosx_10_9_x86_64.whl (92 kB)\n",
      "\u001b[K     |████████████████████████████████| 92 kB 1.3 MB/s eta 0:00:01\n",
      "\u001b[?25hCollecting scs>=3.2.4.post1\n",
      "  Downloading scs-3.2.7-cp39-cp39-macosx_10_9_x86_64.whl (105 kB)\n",
      "\u001b[K     |████████████████████████████████| 105 kB 6.0 MB/s eta 0:00:01\n",
      "\u001b[?25hCollecting clarabel>=0.5.0\n",
      "  Downloading clarabel-0.9.0-cp37-abi3-macosx_10_12_x86_64.whl (890 kB)\n",
      "\u001b[K     |████████████████████████████████| 890 kB 9.8 MB/s eta 0:00:01\n",
      "\u001b[?25hRequirement already satisfied: numpy>=1.15 in /Users/marwansalih/opt/anaconda3/lib/python3.9/site-packages (from cvxpy) (1.21.5)\n",
      "Requirement already satisfied: scipy>=1.1.0 in /Users/marwansalih/opt/anaconda3/lib/python3.9/site-packages (from cvxpy) (1.7.3)\n",
      "Collecting osqp>=0.6.2\n",
      "  Downloading osqp-0.6.7.post1-cp39-cp39-macosx_10_9_x86_64.whl (251 kB)\n",
      "\u001b[K     |████████████████████████████████| 251 kB 7.9 MB/s eta 0:00:01\n",
      "\u001b[?25hCollecting qdldl\n",
      "  Downloading qdldl-0.1.7.post4-cp39-cp39-macosx_10_9_x86_64.whl (101 kB)\n",
      "\u001b[K     |████████████████████████████████| 101 kB 32.1 MB/s eta 0:00:01\n",
      "\u001b[?25hInstalling collected packages: qdldl, scs, osqp, ecos, clarabel, cvxpy\n",
      "Successfully installed clarabel-0.9.0 cvxpy-1.5.3 ecos-2.0.14 osqp-0.6.7.post1 qdldl-0.1.7.post4 scs-3.2.7\n",
      "Requirement already satisfied: scikit-learn in /Users/marwansalih/opt/anaconda3/lib/python3.9/site-packages (1.0.2)\n",
      "Requirement already satisfied: threadpoolctl>=2.0.0 in /Users/marwansalih/opt/anaconda3/lib/python3.9/site-packages (from scikit-learn) (2.2.0)\n",
      "Requirement already satisfied: joblib>=0.11 in /Users/marwansalih/opt/anaconda3/lib/python3.9/site-packages (from scikit-learn) (1.1.0)\n",
      "Requirement already satisfied: numpy>=1.14.6 in /Users/marwansalih/opt/anaconda3/lib/python3.9/site-packages (from scikit-learn) (1.21.5)\n",
      "Requirement already satisfied: scipy>=1.1.0 in /Users/marwansalih/opt/anaconda3/lib/python3.9/site-packages (from scikit-learn) (1.7.3)\n"
     ]
    }
   ],
   "source": [
    "# 1. Install dependency:\n",
    "!pip install cvxpy\n",
    "!pip install scikit-learn"
   ]
  },
  {
   "cell_type": "code",
   "execution_count": 8,
   "id": "30280f76",
   "metadata": {
    "id": "30280f76"
   },
   "outputs": [],
   "source": [
    "# 2. Load library\n",
    "import numpy as np\n",
    "import cvxpy as cp\n",
    "from sklearn.datasets import make_blobs\n",
    "from sklearn.model_selection import train_test_split\n",
    "import matplotlib.pyplot as plt\n",
    "# Ref: https://ai538393399.wordpress.com/2020/11/25/svm-using-cvxpy/"
   ]
  },
  {
   "cell_type": "markdown",
   "id": "8c3166e8",
   "metadata": {},
   "source": []
  },
  {
   "cell_type": "code",
   "execution_count": 9,
   "id": "177c0c28",
   "metadata": {
    "colab": {
     "base_uri": "https://localhost:8080/",
     "height": 430
    },
    "id": "177c0c28",
    "outputId": "37a678e1-5e65-4b8e-ec3e-a4d9b729b5f4"
   },
   "outputs": [
    {
     "data": {
      "image/png": "[encoded data removed]",
      "text/plain": [
       "<Figure size 432x288 with 1 Axes>"
      ]
     },
     "metadata": {
      "needs_background": "light"
     },
     "output_type": "display_data"
    }
   ],
   "source": [
    "# 3. Generate and plot dataset\n",
    "np.random.seed(1)\n",
    "X,y = make_blobs(n_samples=100, centers=2, n_features=2)\n",
    "\n",
    "# change the label set from [0,1] to [-1,1]\n",
    "y[y==0] = -1\n",
    "m,n = np.shape(X)\n",
    "# print('x has shape {}'.format(X.shape))\n",
    "# print('y has shape {}'.format(y.shape))\n",
    "\n",
    "# Visualize\n",
    "plt.scatter(X[:,0], X[:,1], marker='o', c=y, s=25)\n",
    "plt.show()"
   ]
  },
  {
   "cell_type": "markdown",
   "id": "32237b00",
   "metadata": {
    "id": "32237b00"
   },
   "source": [
    "### Instructions:\n",
    "- See slide 68 in lecture __'Linear Classification and SVM'__, we have an objective as the following:\n",
    "$$\\min_{w, b} \\frac{1}{2}||w||_2^2$$\n",
    "$$S.T. y_i(w^T x_i+b)>=1$$\n",
    "\n",
    "- Implement a solution for hard margin using a function `cp.Minimize()` which\n",
    "aims to minimize an objective."
   ]
  },
  {
   "cell_type": "markdown",
   "id": "1298cca1",
   "metadata": {},
   "source": []
  },
  {
   "cell_type": "code",
   "execution_count": 11,
   "id": "f738cc16",
   "metadata": {
    "id": "f738cc16"
   },
   "outputs": [
    {
     "name": "stdout",
     "output_type": "stream",
     "text": [
      "Status of optimization: optimal\n",
      "Optimal value of W:  [-0.00119015 -0.00123122]\n",
      "Optimal value of b:  0.0\n"
     ]
    }
   ],
   "source": [
    "# 4. Define vars in CVXPY\n",
    "# todo_1\n",
    "W = cp.Variable(n) # weight motrix, choose from n or m\n",
    "# print(W.shape)\n",
    "b = cp.Variable() # gamma term\n",
    "C = 0.01 # Control/Regularization parameters\n",
    "\n",
    "# Hard~margin SYM\n",
    "# objective function is 1/2*||W||_2\"2\n",
    "# You cannot use numpy functions in cvxpy objective function or constraints\n",
    "# cp.power() con be used to find the power of an expression\n",
    "\n",
    "# todo_2\n",
    "objective = cp.Minimize(0.5*cp.square(cp.norm2(W)))\n",
    "# constraint y(W'x+b)>=1\n",
    "# y(W'x+b)-1>= 0\n",
    "# todo_3\n",
    "constraints = [cp.matmul(y,W.T@X.T +b) -1>=0]\n",
    "\n",
    "\n",
    "prob = cp.Problem(objective, constraints)\n",
    "prob.solve()\n",
    "\n",
    "print(\"Status of optimization:\", prob.status)\n",
    "print(\"Optimal value of W: \", W.value)\n",
    "print(\"Optimal value of b: \", b.value)\n"
   ]
  },
  {
   "cell_type": "markdown",
   "id": "273bf4ec",
   "metadata": {
    "id": "273bf4ec"
   },
   "source": [
    "#### Having calculated W and b, you can now classify a new example x, write a function that classifies X"
   ]
  },
  {
   "cell_type": "markdown",
   "id": "09d713f7",
   "metadata": {
    "id": "09d713f7"
   },
   "source": [
    "#### Try to plot your SVM on the graph"
   ]
  },
  {
   "cell_type": "code",
   "execution_count": 21,
   "id": "b99d6a8d",
   "metadata": {
    "id": "b99d6a8d"
   },
   "outputs": [
    {
     "data": {
      "text/plain": [
       "array([-1.,  1., -1., -1.,  1.,  1.,  1.,  1., -1., -1.])"
      ]
     },
     "execution_count": 21,
     "metadata": {},
     "output_type": "execute_result"
    }
   ],
   "source": [
    "def classify(x):\n",
    "    # todo_4a\n",
    "    result = x @ W+ b\n",
    "    result = result.value\n",
    "    return np.sign(result)\n",
    "\n",
    "# todo_4b\n",
    "x_test = X[:10, :]  # Use any test example from X\n",
    "classify(x_test)"
   ]
  },
  {
   "cell_type": "code",
   "execution_count": 67,
   "id": "616bca43",
   "metadata": {
    "id": "616bca43"
   },
   "outputs": [
    {
     "data": {
      "image/png": "[encoded data removed]",
      "text/plain": [
       "<Figure size 432x288 with 1 Axes>"
      ]
     },
     "metadata": {
      "needs_background": "light"
     },
     "output_type": "display_data"
    }
   ],
   "source": [
    "def plot_SVM(w, b, X = X):\n",
    "    plt.scatter(X[:,0], X[:,1], marker='o', c=y, s=25)\n",
    "    xp = np.linspace(min(X[:,0]), max(X[:,0]), 100)\n",
    "    # todo_5\n",
    "    yp = (b.value - w.value[0] * xp) / w.value[1]\n",
    "    plt.plot(xp,yp)\n",
    "    plt.show()\n",
    "\n",
    "# Visualization\n",
    "plot_SVM(W, b)"
   ]
  },
  {
   "cell_type": "markdown",
   "id": "6e321dec",
   "metadata": {
    "id": "6e321dec"
   },
   "source": [
    "## 2. Soft Margin SVM\n",
    "### Instruction\n",
    "- See slide 68 in lecture __'Linear Classification and SVM'__, we have an objective as the following:"
   ]
  },
  {
   "cell_type": "markdown",
   "id": "6e3475bf",
   "metadata": {
    "id": "6e3475bf"
   },
   "source": [
    "$$\\min_{w, b} \\frac{1}{2}||w||_2^2 + C\\sum_i \\psi_i$$\n",
    "$$S.T. y_i(w^T x_i + b) - 1 + \\psi_i >= 0$$\n",
    "$$\\psi_i\\geq0$$"
   ]
  },
  {
   "cell_type": "code",
   "execution_count": 42,
   "id": "ebc71f8f",
   "metadata": {
    "id": "ebc71f8f"
   },
   "outputs": [
    {
     "name": "stdout",
     "output_type": "stream",
     "text": [
      "Status of optimization:  optimal\n",
      "Optimal value of W:  [-0.00119022 -0.0012313 ]\n",
      "Optimal value of b:  0.0\n"
     ]
    }
   ],
   "source": [
    "# Soft margin SVM\n",
    "# objective function for soft margin SVM is 0.5w'w + C*sum(Psi)\n",
    "# cvxpy command for computing the transpose of a matrix is cp.transpose(W)\n",
    "\n",
    "#todo_6:\n",
    "Psi = cp.Variable(m) # slack variable, choose from n or m\n",
    "\n",
    "#todo_7\n",
    "objective = cp.Minimize(0.5*cp.square(cp.norm2(W)) + C*cp.sum(Psi))\n",
    "\n",
    "# Constraint y(W'x+b)+Psi-1>=O; Psi>=O\n",
    "#todo_8\n",
    "constraints = [cp.matmul(y,W.T@X.T +b) +Psi-1>=0,Psi>=0]\n",
    "\n",
    "prob = cp.Problem(objective, constraints)\n",
    "prob.solve()\n",
    "print(\"Status of optimization: \", prob.status)\n",
    "print(\"Optimal value of W: \", W.value)\n",
    "print(\"Optimal value of b: \", b.value)\n",
    "\n",
    "# print(\"Constraint_0: \", bconstraints[0])\n",
    "# print(\"Constraint_t:\", constraints[1]) # second constraint is available far soft-margin svm\n",
    "# print(\"Dual value for the first constraint: \" , constraints[0].dual_value) # value of the Lagrangian multiplier\n",
    "# print(\"Dual value for the second constraint: \" , constraints[1].dual_value) # second constraint is available for soft-aorgin svm\n"
   ]
  },
  {
   "cell_type": "markdown",
   "id": "33ed9333",
   "metadata": {
    "id": "33ed9333"
   },
   "source": [
    "Plot the SVM again using `plot_SVM()` function implemented before"
   ]
  },
  {
   "cell_type": "code",
   "execution_count": 47,
   "id": "01086ad0",
   "metadata": {
    "id": "01086ad0"
   },
   "outputs": [
    {
     "data": {
      "image/png": "[encoded data removed]",
      "text/plain": [
       "<Figure size 432x288 with 1 Axes>"
      ]
     },
     "metadata": {
      "needs_background": "light"
     },
     "output_type": "display_data"
    }
   ],
   "source": [
    "# Visualization\n",
    "\n",
    "plot_SVM(W,b)"
   ]
  },
  {
   "cell_type": "markdown",
   "id": "5361e129",
   "metadata": {
    "id": "5361e129"
   },
   "source": [
    "### 3. Sklearn SVC module\n",
    "Employ a library to train a SVM model."
   ]
  },
  {
   "cell_type": "code",
   "execution_count": null,
   "id": "dd3548f5",
   "metadata": {
    "id": "dd3548f5"
   },
   "outputs": [],
   "source": [
    "from sklearn import svm\n",
    "# todo_9: Split the data\n",
    "x_train = 'replace_here'\n",
    "y_train = 'replace_here'\n",
    "x_test =  'replace_here'\n",
    "y_test =  'replace_here'\n",
    "\n",
    "# todo_11: using sklearn library to train a model using the same training data, ref:https://scikit-learn.org/stable/modules/generated/sklearn.svm.SVC.html\n",
    "# c = 10\n",
    "'replace_here'\n",
    "\n",
    "# todo_12: test your model\n",
    "'replace_here'\n",
    "\n",
    "# todo_13: show your SVC model's parameter, i.e. W and b\n",
    "'replace_here'\n",
    "\n",
    "# Visulization\n",
    "plot_SVM(W, b)"
   ]
  },
  {
   "cell_type": "markdown",
   "id": "89bbeebf",
   "metadata": {
    "id": "89bbeebf"
   },
   "source": [
    "### Questions:\n",
    "- Compare results with soft and hard margin. Does the soft margin do better when the data is more noisy and harder to separate?\n",
    "- Try to change the parameter C above and repeat experiment."
   ]
  }
 ],
 "metadata": {
  "colab": {
   "provenance": []
  },
  "kernelspec": {
   "display_name": "Python 3 (ipykernel)",
   "language": "python",
   "name": "python3"
  },
  "language_info": {
   "codemirror_mode": {
    "name": "ipython",
    "version": 3
   },
   "file_extension": ".py",
   "mimetype": "text/x-python",
   "name": "python",
   "nbconvert_exporter": "python",
   "pygments_lexer": "ipython3",
   "version": "3.9.12"
  },
  "varInspector": {
   "cols": {
    "lenName": 16,
    "lenType": 16,
    "lenVar": 40
   },
   "kernels_config": {
    "python": {
     "delete_cmd_postfix": "",
     "delete_cmd_prefix": "del ",
     "library": "var_list.py",
     "varRefreshCmd": "print(var_dic_list())"
    },
    "r": {
     "delete_cmd_postfix": ") ",
     "delete_cmd_prefix": "rm(",
     "library": "var_list.r",
     "varRefreshCmd": "cat(var_dic_list()) "
    }
   },
   "types_to_exclude": [
    "module",
    "function",
    "builtin_function_or_method",
    "instance",
    "_Feature"
   ],
   "window_display": false
  },
  "vscode": {
   "interpreter": {
    "hash": "76ea754b25b726a93d8de7d3b8af90723f92451c0edd4df20eb3049105300d87"
   }
  }
 },
 "nbformat": 4,
 "nbformat_minor": 5
}
