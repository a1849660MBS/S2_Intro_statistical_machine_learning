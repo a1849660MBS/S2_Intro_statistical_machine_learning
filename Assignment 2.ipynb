{
 "cells": [
  {
   "cell_type": "code",
   "execution_count": 1,
   "id": "170c7879",
   "metadata": {},
   "outputs": [
    {
     "name": "stdout",
     "output_type": "stream",
     "text": [
      "Requirement already satisfied: numpy in /Users/marwansalih/opt/anaconda3/lib/python3.9/site-packages (1.21.5)\n",
      "Requirement already satisfied: cvxpy in /Users/marwansalih/opt/anaconda3/lib/python3.9/site-packages (1.5.3)\n",
      "Requirement already satisfied: osqp>=0.6.2 in /Users/marwansalih/opt/anaconda3/lib/python3.9/site-packages (from cvxpy) (0.6.7.post1)\n",
      "Requirement already satisfied: clarabel>=0.5.0 in /Users/marwansalih/opt/anaconda3/lib/python3.9/site-packages (from cvxpy) (0.9.0)\n",
      "Requirement already satisfied: scs>=3.2.4.post1 in /Users/marwansalih/opt/anaconda3/lib/python3.9/site-packages (from cvxpy) (3.2.7)\n",
      "Requirement already satisfied: ecos>=2 in /Users/marwansalih/opt/anaconda3/lib/python3.9/site-packages (from cvxpy) (2.0.14)\n",
      "Requirement already satisfied: scipy>=1.1.0 in /Users/marwansalih/opt/anaconda3/lib/python3.9/site-packages (from cvxpy) (1.7.3)\n",
      "Requirement already satisfied: qdldl in /Users/marwansalih/opt/anaconda3/lib/python3.9/site-packages (from osqp>=0.6.2->cvxpy) (0.1.7.post4)\n"
     ]
    }
   ],
   "source": [
    "!pip install numpy cvxpy\n"
   ]
  },
  {
   "cell_type": "markdown",
   "id": "aab3eca6",
   "metadata": {},
   "source": [
    "### I am now adding the importing of libraries"
   ]
  },
  {
   "cell_type": "code",
   "execution_count": 2,
   "id": "a6cc275a",
   "metadata": {},
   "outputs": [],
   "source": [
    "import numpy as np\n",
    "import cvxpy as cp\n"
   ]
  },
  {
   "cell_type": "code",
   "execution_count": 3,
   "id": "e722b598",
   "metadata": {},
   "outputs": [],
   "source": [
    "# SVM training function using the primal form\n",
    "def svm_train_primal(data_train, label_train, regularisation_para_C):\n",
    "    n_samples, n_features = data_train.shape\n",
    "    w = cp.Variable(n_features)\n",
    "    b = cp.Variable()\n",
    "    xi = cp.Variable(n_samples)\n",
    "    \n",
    "    # Define the objective function\n",
    "    objective = cp.Minimize(0.5 * cp.sum_squares(w) + regularisation_para_C * cp.sum(xi))\n",
    "    \n",
    "    # Constraints\n",
    "    constraints = [\n",
    "        cp.multiply(label_train, data_train @ w + b) >= 1 - xi,  # SVM margin constraints\n",
    "        xi >= 0  # Slack variables must be non-negative\n",
    "    ]\n",
    "    \n",
    "    # Define the problem and solve it\n",
    "    problem = cp.Problem(objective, constraints)\n",
    "    problem.solve()\n",
    "    \n",
    "    # Return the model (w, b)\n",
    "    return w.value, b.value"
   ]
  },
  {
   "cell_type": "code",
   "execution_count": 4,
   "id": "886eae7b",
   "metadata": {},
   "outputs": [],
   "source": [
    "#defining the predction function"
   ]
  },
  {
   "cell_type": "code",
   "execution_count": 8,
   "id": "1024b085",
   "metadata": {},
   "outputs": [
    {
     "name": "stdout",
     "output_type": "stream",
     "text": [
      "Trained SVM model parameters:\n",
      "w: [2.42617013 2.10692853]\n",
      "b: 0.03996317382714641\n",
      "Sum of w: 4.533098661078421\n",
      "Test Accuracy: 0.95\n"
     ]
    }
   ],
   "source": [
    "\n",
    "# SVM training function using the primal form\n",
    "def svm_train_primal(data_train, label_train, regularisation_para_C):\n",
    "    n_samples, n_features = data_train.shape\n",
    "    \n",
    "    # Define variables\n",
    "    w = cp.Variable(n_features)\n",
    "    b = cp.Variable()\n",
    "    xi = cp.Variable(n_samples)  # slack variables\n",
    "    \n",
    "    # Objective function: minimize (1/2)*||w||^2 + C/N * sum(xi)\n",
    "    objective = cp.Minimize(0.5 * cp.sum_squares(w) + (regularisation_para_C / n_samples) * cp.sum(xi))\n",
    "    \n",
    "    # Constraints: yi * (w^T * xi + b) >= 1 - xi for all i, and xi >= 0\n",
    "    constraints = [\n",
    "        cp.multiply(label_train, data_train @ w + b) >= 1 - xi,  # yi * (w^T * xi + b) >= 1 - xi\n",
    "        xi >= 0  # xi >= 0\n",
    "    ]\n",
    "    \n",
    "    # Solve the problem\n",
    "    problem = cp.Problem(objective, constraints)\n",
    "    problem.solve()\n",
    "    \n",
    "    # Return the model parameters (w, b)\n",
    "    return w.value, b.value\n",
    "\n",
    "# SVM prediction function using the trained model\n",
    "def svm_predict_primal(data_test, label_test, svm_model):\n",
    "    w, b = svm_model\n",
    "    # Predict class labels: sign(w^T * x + b)\n",
    "    predictions = np.sign(np.dot(data_test, w) + b)\n",
    "    # Calculate accuracy\n",
    "    accuracy = np.mean(predictions == label_test)\n",
    "    return accuracy\n",
    "\n",
    "# Example usage (you'll need to replace with actual data loading)\n",
    "# For demonstration, let's generate random data\n",
    "\n",
    "np.random.seed(0)\n",
    "X_train = np.random.randn(100, 2)  # 100 samples, 2 features\n",
    "y_train = np.where(X_train[:, 0] + X_train[:, 1] > 0, 1, -1)  # labels: 1 or -1\n",
    "\n",
    "X_test = np.random.randn(20, 2)\n",
    "y_test = np.where(X_test[:, 0] + X_test[:, 1] > 0, 1, -1)\n",
    "\n",
    "# Regularization parameter C\n",
    "C = 100\n",
    "\n",
    "# Train the SVM model\n",
    "svm_model = svm_train_primal(X_train, y_train, C)\n",
    "\n",
    "# Test the SVM model\n",
    "test_accuracy = svm_predict_primal(X_test, y_test, svm_model)\n",
    "\n",
    "# Print results\n",
    "print(\"Trained SVM model parameters:\")\n",
    "print(\"w:\", svm_model[0])\n",
    "print(\"b:\", svm_model[1])\n",
    "print(\"Sum of w:\", np.sum(svm_model[0]))\n",
    "print(\"Test Accuracy:\", test_accuracy)\n"
   ]
  },
  {
   "cell_type": "code",
   "execution_count": null,
   "id": "79a182c1",
   "metadata": {},
   "outputs": [],
   "source": []
  },
  {
   "cell_type": "code",
   "execution_count": null,
   "id": "d75010e4",
   "metadata": {},
   "outputs": [],
   "source": []
  },
  {
   "cell_type": "code",
   "execution_count": null,
   "id": "5590be7f",
   "metadata": {},
   "outputs": [],
   "source": []
  }
 ],
 "metadata": {
  "kernelspec": {
   "display_name": "Python 3 (ipykernel)",
   "language": "python",
   "name": "python3"
  },
  "language_info": {
   "codemirror_mode": {
    "name": "ipython",
    "version": 3
   },
   "file_extension": ".py",
   "mimetype": "text/x-python",
   "name": "python",
   "nbconvert_exporter": "python",
   "pygments_lexer": "ipython3",
   "version": "3.9.12"
  }
 },
 "nbformat": 4,
 "nbformat_minor": 5
}
